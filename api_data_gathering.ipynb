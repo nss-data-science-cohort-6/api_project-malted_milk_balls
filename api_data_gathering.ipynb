{
 "cells": [
  {
   "cell_type": "code",
   "execution_count": 7,
   "metadata": {},
   "outputs": [],
   "source": [
    "import pandas as pd\n",
    "import requests"
   ]
  },
  {
   "cell_type": "markdown",
   "metadata": {},
   "source": [
    "# Part 1 - Data Gathering"
   ]
  },
  {
   "cell_type": "markdown",
   "metadata": {},
   "source": [
    "1. Make use of the API to find all aggravated burglary incidents () that were reported during the nine month period from January 1, 2022 through September 30, 2021. "
   ]
  },
  {
   "cell_type": "code",
   "execution_count": 8,
   "metadata": {},
   "outputs": [],
   "source": [
    "offense_type = \"offense_description=BURGLARY- AGGRAVATED\"\n",
    "\n",
    "endpoint = f'https://data.nashville.gov/resource/2u6v-ujjs.json?{offense_type}&$limit=25000'\n",
    "response = requests.get(endpoint)"
   ]
  },
  {
   "cell_type": "code",
   "execution_count": 9,
   "metadata": {},
   "outputs": [],
   "source": [
    "api_data = response.json()"
   ]
  },
  {
   "cell_type": "code",
   "execution_count": 10,
   "metadata": {},
   "outputs": [],
   "source": [
    "api_data_df = pd.DataFrame(api_data)"
   ]
  },
  {
   "cell_type": "code",
   "execution_count": 11,
   "metadata": {},
   "outputs": [
    {
     "data": {
      "text/plain": [
       "0       2017-12-16 18:30:00\n",
       "1       2019-08-05 23:08:00\n",
       "2       2019-05-24 15:00:00\n",
       "3       2016-03-12 02:20:00\n",
       "4       2021-02-06 14:41:00\n",
       "                ...        \n",
       "23518   2022-10-11 17:00:00\n",
       "23519   2022-10-19 02:04:00\n",
       "23520   2022-08-22 05:40:00\n",
       "23521   2022-10-15 07:00:00\n",
       "23522   2022-10-13 03:44:00\n",
       "Name: incident_occurred, Length: 23523, dtype: datetime64[ns]"
      ]
     },
     "execution_count": 11,
     "metadata": {},
     "output_type": "execute_result"
    }
   ],
   "source": [
    "incident_occured_dt = pd.to_datetime(api_data_df['incident_occurred'])\n",
    "incident_occured_dt"
   ]
  },
  {
   "cell_type": "code",
   "execution_count": 12,
   "metadata": {},
   "outputs": [],
   "source": [
    "time_1 = '2021-01-01 00:00:00'\n",
    "time_2 = '2021-09-30 23:59:59'\n",
    "boolean = (incident_occured_dt >= time_1) & (incident_occured_dt <= time_2)\n",
    "\n",
    "agg_burglary_data_df = api_data_df[boolean]"
   ]
  }
 ],
 "metadata": {
  "kernelspec": {
   "display_name": "Python 3.9.12 ('base')",
   "language": "python",
   "name": "python3"
  },
  "language_info": {
   "codemirror_mode": {
    "name": "ipython",
    "version": 3
   },
   "file_extension": ".py",
   "mimetype": "text/x-python",
   "name": "python",
   "nbconvert_exporter": "python",
   "pygments_lexer": "ipython3",
   "version": "3.9.12"
  },
  "orig_nbformat": 4,
  "vscode": {
   "interpreter": {
    "hash": "08210294964727e4010dccc398c44f22b92a2e77e2aceea574ad21eae77cd8e8"
   }
  }
 },
 "nbformat": 4,
 "nbformat_minor": 2
}
